{
  "nbformat": 4,
  "nbformat_minor": 0,
  "metadata": {
    "colab": {
      "provenance": [],
      "collapsed_sections": [
        "YEcgx_tmn3r7",
        "mvu2Dk1_t_d5"
      ],
      "mount_file_id": "1_YdflLLvYzuWO7JCXhhX2kmRQ9i30-nL",
      "authorship_tag": "ABX9TyOvS4KjpD25mA6Zz7q0L8Yh",
      "include_colab_link": true
    },
    "kernelspec": {
      "name": "python3",
      "display_name": "Python 3"
    },
    "language_info": {
      "name": "python"
    }
  },
  "cells": [
    {
      "cell_type": "markdown",
      "metadata": {
        "id": "view-in-github",
        "colab_type": "text"
      },
      "source": [
        "<a href=\"https://colab.research.google.com/github/wayne4918/Machine_Learning_Practice/blob/main/Machine_Learning.ipynb\" target=\"_parent\"><img src=\"https://colab.research.google.com/assets/colab-badge.svg\" alt=\"Open In Colab\"/></a>"
      ]
    },
    {
      "cell_type": "markdown",
      "source": [
        "#지도학습"
      ],
      "metadata": {
        "id": "GWgGfUCAB4qG"
      }
    },
    {
      "cell_type": "markdown",
      "source": [
        "#Linear_Regression_Practice"
      ],
      "metadata": {
        "id": "YEcgx_tmn3r7"
      }
    },
    {
      "cell_type": "code",
      "source": [
        "import matplotlib.pyplot as plt\n",
        "import numpy as np\n"
      ],
      "metadata": {
        "id": "8CxYMrKWsaq3"
      },
      "execution_count": null,
      "outputs": []
    },
    {
      "cell_type": "code",
      "source": [
        "\n",
        "from sklearn import datasets, linear_model\n",
        "from sklearn.metrics import mean_squared_error, r2_score\n"
      ],
      "metadata": {
        "id": "U8PmUPOIs5qo"
      },
      "execution_count": null,
      "outputs": []
    },
    {
      "cell_type": "code",
      "source": [
        "# Load the diabetes dataset\n",
        "# 데이터 셋 열기\n",
        "diabetes_X, diabetes_y = datasets.load_diabetes(return_X_y=True)\n",
        "\n",
        "# Use only one feature\n",
        "# 단일 특징 사용하기\n",
        "diabetes_X = diabetes_X[:, np.newaxis, 2]\n",
        "\n",
        "# Split the data into training/testing sets\n",
        "# 데이터셋을 훈련용과 테스트용으로 나누기\n",
        "# 마지막 20개는 테스트 , 나머지는 훈련용\n",
        "\n",
        "diabetes_X_train = diabetes_X[:-20]\n",
        "diabetes_X_test = diabetes_X[-20:]\n",
        "\n",
        "diabetes_y_train = diabetes_y[:-20]\n",
        "diabetes_y_test = diabetes_y[-20:]"
      ],
      "metadata": {
        "id": "D-Fqy6lMs7qY"
      },
      "execution_count": null,
      "outputs": []
    },
    {
      "cell_type": "code",
      "source": [
        "#linear regression 객체 생성 및 훈련하기\n",
        "\n",
        "regr = linear_model.LinearRegression()\n",
        "regr.fit(diabetes_X_train, diabetes_y_train)\n",
        "\n",
        "#예측\n",
        "diabetes_y_pred = regr.predict(diabetes_X_test)\n",
        "\n",
        "#모델 성능 평가\n",
        "print(\"Coefficients: \\n\", regr.coef_)\n",
        "print(\"Mean squared error: %.2f\" % mean_squared_error(diabetes_y_test, diabetes_y_pred))\n",
        "print(\"Coefficient of determination: %.2f\" % r2_score(diabetes_y_test, diabetes_y_pred))\n",
        "\n"
      ],
      "metadata": {
        "colab": {
          "base_uri": "https://localhost:8080/"
        },
        "id": "ZR2N7UgptNWB",
        "outputId": "cdb78f9d-25f5-4dde-c379-676bfefebf20"
      },
      "execution_count": null,
      "outputs": [
        {
          "output_type": "stream",
          "name": "stdout",
          "text": [
            "Coefficients: \n",
            " [938.23786125]\n",
            "Mean squared error: 2548.07\n",
            "Coefficient of determination: 0.47\n"
          ]
        }
      ]
    },
    {
      "cell_type": "code",
      "source": [
        "# 결과 시각화 해보기\n",
        "\n",
        "\n",
        "plt.scatter(diabetes_X_test, diabetes_y_test, color=\"black\")\n",
        "plt.plot(diabetes_X_test, diabetes_y_pred, color=\"blue\", linewidth=3)\n",
        "plt.xticks(())\n",
        "plt.yticks(())\n",
        "plt.show()\n"
      ],
      "metadata": {
        "colab": {
          "base_uri": "https://localhost:8080/",
          "height": 406
        },
        "id": "e5DB-LQit7sF",
        "outputId": "d6eb8e88-d99a-4b3d-9404-9736b6301f19"
      },
      "execution_count": null,
      "outputs": [
        {
          "output_type": "display_data",
          "data": {
            "text/plain": [
              "<Figure size 640x480 with 1 Axes>"
            ],
            "image/png": "[encoded data removed]"
          },
          "metadata": {}
        }
      ]
    },
    {
      "cell_type": "markdown",
      "source": [
        "변수가 부족해서 그렇게 높은 예측력을 띄고 있진 않다\n"
      ],
      "metadata": {
        "id": "zGlXYUs50umB"
      }
    },
    {
      "cell_type": "markdown",
      "source": [
        "#Logistic Regression Practice"
      ],
      "metadata": {
        "id": "mvu2Dk1_t_d5"
      }
    },
    {
      "cell_type": "code",
      "source": [
        "import matplotlib.pyplot as plt\n",
        "import numpy as np\n",
        "from sklearn import datasets\n",
        "from sklearn.linear_model import LogisticRegression\n",
        "from sklearn.preprocessing import StandardScaler\n"
      ],
      "metadata": {
        "id": "yhNQv-sG17ve"
      },
      "execution_count": 10,
      "outputs": []
    },
    {
      "cell_type": "code",
      "source": [
        "#데이터 셋 로드 및 전처리\n",
        "\n",
        "X, y = datasets.load_digits(return_X_y=True)\n",
        "X = StandardScaler().fit_transform(X)\n",
        "y = (y > 4).astype(int)\n",
        "\n",
        "#하이퍼파라미터 설정\n",
        "l1_ratio = 0.5  # Elastic-Net 정규화에서 L1의 가중치\n",
        "\n",
        "#모델 훈련 및 평가\n",
        "fig, axes = plt.subplots(3, 3)\n",
        "for i, (C, axes_row) in enumerate(zip((1, 0.1, 0.01), axes)):\n",
        "    clf_l1_LR = LogisticRegression(C=C, penalty=\"l1\", tol=0.01, solver=\"saga\")\n",
        "    clf_l2_LR = LogisticRegression(C=C, penalty=\"l2\", tol=0.01, solver=\"saga\")\n",
        "    clf_en_LR = LogisticRegression(\n",
        "        C=C, penalty=\"elasticnet\", solver=\"saga\", l1_ratio=l1_ratio, tol=0.01\n",
        "    )\n",
        "    clf_l1_LR.fit(X, y)\n",
        "    clf_l2_LR.fit(X, y)\n",
        "    clf_en_LR.fit(X, y)\n",
        "\n",
        "#모델 평가 및 결과 출력\n",
        "    coef_l1_LR = clf_l1_LR.coef_.ravel()\n",
        "    coef_l2_LR = clf_l2_LR.coef_.ravel()\n",
        "    coef_en_LR = clf_en_LR.coef_.ravel()\n",
        "    sparsity_l1_LR = np.mean(coef_l1_LR == 0) * 100\n",
        "    sparsity_l2_LR = np.mean(coef_l2_LR == 0) * 100\n",
        "    sparsity_en_LR = np.mean(coef_en_LR == 0) * 100\n",
        "    print(f\"C={C:.2f}\")\n",
        "    print(f\"{'Sparsity with L1 penalty:':<40} {sparsity_l1_LR:.2f}%\")\n",
        "    print(f\"{'Sparsity with Elastic-Net penalty:':<40} {sparsity_en_LR:.2f}%\")\n",
        "    print(f\"{'Sparsity with L2 penalty:':<40} {sparsity_l2_LR:.2f}%\")\n",
        "    print(f\"{'Score with L1 penalty:':<40} {clf_l1_LR.score(X, y):.2f}\")\n",
        "    print(f\"{'Score with Elastic-Net penalty:':<40} {clf_en_LR.score(X, y):.2f}\")\n",
        "    print(f\"{'Score with L2 penalty:':<40} {clf_l2_LR.score(X, y):.2f}\")\n",
        "\n",
        "\n",
        "# 결과 시각화\n",
        "\n",
        "    for ax, coefs in zip(axes_row, [coef_l1_LR, coef_en_LR, coef_l2_LR]):\n",
        "        ax.imshow(\n",
        "            np.abs(coefs.reshape(8, 8)),\n",
        "            interpolation=\"nearest\",\n",
        "            cmap=\"binary\",\n",
        "            vmax=1,\n",
        "            vmin=0,\n",
        "        )\n",
        "        ax.set_xticks(())\n",
        "        ax.set_yticks(())\n",
        "    axes_row[0].set_ylabel(f\"C = {C}\")\n",
        "plt.show()\n"
      ],
      "metadata": {
        "colab": {
          "base_uri": "https://localhost:8080/",
          "height": 788
        },
        "id": "ghlexZQ-188K",
        "outputId": "6fc7f03c-1370-4d16-de21-ad1374ae5726"
      },
      "execution_count": 11,
      "outputs": [
        {
          "output_type": "stream",
          "name": "stdout",
          "text": [
            "C=1.00\n",
            "Sparsity with L1 penalty:                4.69%\n",
            "Sparsity with Elastic-Net penalty:       4.69%\n",
            "Sparsity with L2 penalty:                4.69%\n",
            "Score with L1 penalty:                   0.90\n",
            "Score with Elastic-Net penalty:          0.90\n",
            "Score with L2 penalty:                   0.90\n",
            "C=0.10\n",
            "Sparsity with L1 penalty:                31.25%\n",
            "Sparsity with Elastic-Net penalty:       12.50%\n",
            "Sparsity with L2 penalty:                4.69%\n",
            "Score with L1 penalty:                   0.90\n",
            "Score with Elastic-Net penalty:          0.90\n",
            "Score with L2 penalty:                   0.90\n",
            "C=0.01\n",
            "Sparsity with L1 penalty:                84.38%\n",
            "Sparsity with Elastic-Net penalty:       68.75%\n",
            "Sparsity with L2 penalty:                4.69%\n",
            "Score with L1 penalty:                   0.86\n",
            "Score with Elastic-Net penalty:          0.88\n",
            "Score with L2 penalty:                   0.89\n"
          ]
        },
        {
          "output_type": "display_data",
          "data": {
            "text/plain": [
              "<Figure size 640x480 with 9 Axes>"
            ],
            "image/png": "[encoded data removed]"
          },
          "metadata": {}
        }
      ]
    },
    {
      "cell_type": "markdown",
      "source": [
        "#Decision_Tree_Practice\n"
      ],
      "metadata": {
        "id": "eOjpNsFH2xoh"
      }
    },
    {
      "cell_type": "code",
      "source": [
        "import numpy as np\n",
        "from matplotlib import pyplot as plt\n",
        "\n",
        "from sklearn import tree\n",
        "from sklearn.datasets import load_iris\n",
        "from sklearn.model_selection import train_test_split\n",
        "from sklearn.tree import DecisionTreeClassifier"
      ],
      "metadata": {
        "id": "0Uil6aSWCZyG"
      },
      "execution_count": 13,
      "outputs": []
    },
    {
      "cell_type": "code",
      "source": [
        "#아이리스 데이터셋 로드\n",
        "iris = load_iris()\n",
        "#행렬 X와 벡터Y 추출하기\n",
        "X = iris.data\n",
        "y = iris.target\n",
        "X_train, X_test, y_train, y_test = train_test_split(X, y, random_state=0)\n",
        "#의사 결정 트리 분류기 생성 및 학습하\n",
        "clf = DecisionTreeClassifier(max_leaf_nodes=3, random_state=0)\n",
        "clf.fit(X_train, y_train)"
      ],
      "metadata": {
        "colab": {
          "base_uri": "https://localhost:8080/",
          "height": 74
        },
        "id": "g66TMPfzCpYz",
        "outputId": "b90b0189-c231-4fdd-8faa-2b19606c5b97"
      },
      "execution_count": 14,
      "outputs": [
        {
          "output_type": "execute_result",
          "data": {
            "text/plain": [
              "DecisionTreeClassifier(max_leaf_nodes=3, random_state=0)"
            ],
            "text/html": [
              "<style>#sk-container-id-1 {color: black;background-color: white;}#sk-container-id-1 pre{padding: 0;}#sk-container-id-1 div.sk-toggleable {background-color: white;}#sk-container-id-1 label.sk-toggleable__label {cursor: pointer;display: block;width: 100%;margin-bottom: 0;padding: 0.3em;box-sizing: border-box;text-align: center;}#sk-container-id-1 label.sk-toggleable__label-arrow:before {content: \"▸\";float: left;margin-right: 0.25em;color: #696969;}#sk-container-id-1 label.sk-toggleable__label-arrow:hover:before {color: black;}#sk-container-id-1 div.sk-estimator:hover label.sk-toggleable__label-arrow:before {color: black;}#sk-container-id-1 div.sk-toggleable__content {max-height: 0;max-width: 0;overflow: hidden;text-align: left;background-color: #f0f8ff;}#sk-container-id-1 div.sk-toggleable__content pre {margin: 0.2em;color: black;border-radius: 0.25em;background-color: #f0f8ff;}#sk-container-id-1 input.sk-toggleable__control:checked~div.sk-toggleable__content {max-height: 200px;max-width: 100%;overflow: auto;}#sk-container-id-1 input.sk-toggleable__control:checked~label.sk-toggleable__label-arrow:before {content: \"▾\";}#sk-container-id-1 div.sk-estimator input.sk-toggleable__control:checked~label.sk-toggleable__label {background-color: #d4ebff;}#sk-container-id-1 div.sk-label input.sk-toggleable__control:checked~label.sk-toggleable__label {background-color: #d4ebff;}#sk-container-id-1 input.sk-hidden--visually {border: 0;clip: rect(1px 1px 1px 1px);clip: rect(1px, 1px, 1px, 1px);height: 1px;margin: -1px;overflow: hidden;padding: 0;position: absolute;width: 1px;}#sk-container-id-1 div.sk-estimator {font-family: monospace;background-color: #f0f8ff;border: 1px dotted black;border-radius: 0.25em;box-sizing: border-box;margin-bottom: 0.5em;}#sk-container-id-1 div.sk-estimator:hover {background-color: #d4ebff;}#sk-container-id-1 div.sk-parallel-item::after {content: \"\";width: 100%;border-bottom: 1px solid gray;flex-grow: 1;}#sk-container-id-1 div.sk-label:hover label.sk-toggleable__label {background-color: #d4ebff;}#sk-container-id-1 div.sk-serial::before {content: \"\";position: absolute;border-left: 1px solid gray;box-sizing: border-box;top: 0;bottom: 0;left: 50%;z-index: 0;}#sk-container-id-1 div.sk-serial {display: flex;flex-direction: column;align-items: center;background-color: white;padding-right: 0.2em;padding-left: 0.2em;position: relative;}#sk-container-id-1 div.sk-item {position: relative;z-index: 1;}#sk-container-id-1 div.sk-parallel {display: flex;align-items: stretch;justify-content: center;background-color: white;position: relative;}#sk-container-id-1 div.sk-item::before, #sk-container-id-1 div.sk-parallel-item::before {content: \"\";position: absolute;border-left: 1px solid gray;box-sizing: border-box;top: 0;bottom: 0;left: 50%;z-index: -1;}#sk-container-id-1 div.sk-parallel-item {display: flex;flex-direction: column;z-index: 1;position: relative;background-color: white;}#sk-container-id-1 div.sk-parallel-item:first-child::after {align-self: flex-end;width: 50%;}#sk-container-id-1 div.sk-parallel-item:last-child::after {align-self: flex-start;width: 50%;}#sk-container-id-1 div.sk-parallel-item:only-child::after {width: 0;}#sk-container-id-1 div.sk-dashed-wrapped {border: 1px dashed gray;margin: 0 0.4em 0.5em 0.4em;box-sizing: border-box;padding-bottom: 0.4em;background-color: white;}#sk-container-id-1 div.sk-label label {font-family: monospace;font-weight: bold;display: inline-block;line-height: 1.2em;}#sk-container-id-1 div.sk-label-container {text-align: center;}#sk-container-id-1 div.sk-container {/* jupyter's `normalize.less` sets `[hidden] { display: none; }` but bootstrap.min.css set `[hidden] { display: none !important; }` so we also need the `!important` here to be able to override the default hidden behavior on the sphinx rendered scikit-learn.org. See: https://github.com/scikit-learn/scikit-learn/issues/21755 */display: inline-block !important;position: relative;}#sk-container-id-1 div.sk-text-repr-fallback {display: none;}</style><div id=\"sk-container-id-1\" class=\"sk-top-container\"><div class=\"sk-text-repr-fallback\"><pre>DecisionTreeClassifier(max_leaf_nodes=3, random_state=0)</pre><b>In a Jupyter environment, please rerun this cell to show the HTML representation or trust the notebook. <br />On GitHub, the HTML representation is unable to render, please try loading this page with nbviewer.org.</b></div><div class=\"sk-container\" hidden><div class=\"sk-item\"><div class=\"sk-estimator sk-toggleable\"><input class=\"sk-toggleable__control sk-hidden--visually\" id=\"sk-estimator-id-1\" type=\"checkbox\" checked><label for=\"sk-estimator-id-1\" class=\"sk-toggleable__label sk-toggleable__label-arrow\">DecisionTreeClassifier</label><div class=\"sk-toggleable__content\"><pre>DecisionTreeClassifier(max_leaf_nodes=3, random_state=0)</pre></div></div></div></div></div>"
            ]
          },
          "metadata": {},
          "execution_count": 14
        }
      ]
    },
    {
      "cell_type": "code",
      "source": [
        "#트리 속성 추출하기\n",
        "n_nodes = clf.tree_.node_count\n",
        "children_left = clf.tree_.children_left\n",
        "children_right = clf.tree_.children_right\n",
        "feature = clf.tree_.feature\n",
        "threshold = clf.tree_.threshold\n",
        "values = clf.tree_.value\n",
        "\n",
        "# 노드 깊이, 리프 노드 여부 초기화 하기\n",
        "node_depth = np.zeros(shape=n_nodes, dtype=np.int64)\n",
        "is_leaves = np.zeros(shape=n_nodes, dtype=bool)\n",
        "stack = [(0, 0)]  # start with the root node id (0) and its depth (0)\n",
        "# 트리 탐색하기\n",
        "while len(stack) > 0:\n",
        "    node_id, depth = stack.pop()\n",
        "    node_depth[node_id] = depth\n",
        "\n",
        "    is_split_node = children_left[node_id] != children_right[node_id]\n",
        "    if is_split_node:\n",
        "        stack.append((children_left[node_id], depth + 1))\n",
        "        stack.append((children_right[node_id], depth + 1))\n",
        "    else:\n",
        "        is_leaves[node_id] = True\n",
        "# 트리 구조 출력하기\n",
        "\n",
        "print(\n",
        "    \"The binary tree structure has {n} nodes and has \"\n",
        "    \"the following tree structure:\\n\".format(n=n_nodes)\n",
        ")\n",
        "for i in range(n_nodes):\n",
        "    if is_leaves[i]:\n",
        "        print(\n",
        "            \"{space}node={node} is a leaf node with value={value}.\".format(\n",
        "                space=node_depth[i] * \"\\t\", node=i, value=values[i]\n",
        "            )\n",
        "        )\n",
        "    else:\n",
        "        print(\n",
        "            \"{space}node={node} is a split node with value={value}: \"\n",
        "            \"go to node {left} if X[:, {feature}] <= {threshold} \"\n",
        "            \"else to node {right}.\".format(\n",
        "                space=node_depth[i] * \"\\t\",\n",
        "                node=i,\n",
        "                left=children_left[i],\n",
        "                feature=feature[i],\n",
        "                threshold=threshold[i],\n",
        "                right=children_right[i],\n",
        "                value=values[i],\n",
        "            )\n",
        "        )\n"
      ],
      "metadata": {
        "colab": {
          "base_uri": "https://localhost:8080/"
        },
        "id": "EH0lpse9G34F",
        "outputId": "6c1fb63a-692c-4753-b0c1-18f1403db4b2"
      },
      "execution_count": 15,
      "outputs": [
        {
          "output_type": "stream",
          "name": "stdout",
          "text": [
            "The binary tree structure has 5 nodes and has the following tree structure:\n",
            "\n",
            "node=0 is a split node with value=[[37. 34. 41.]]: go to node 1 if X[:, 3] <= 0.800000011920929 else to node 2.\n",
            "\tnode=1 is a leaf node with value=[[37.  0.  0.]].\n",
            "\tnode=2 is a split node with value=[[ 0. 34. 41.]]: go to node 3 if X[:, 2] <= 4.950000047683716 else to node 4.\n",
            "\t\tnode=3 is a leaf node with value=[[ 0. 33.  3.]].\n",
            "\t\tnode=4 is a leaf node with value=[[ 0.  1. 38.]].\n"
          ]
        }
      ]
    }
  ]
}